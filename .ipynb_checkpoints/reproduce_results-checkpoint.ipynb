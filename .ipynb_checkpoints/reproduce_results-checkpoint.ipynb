{
 "cells": [
  {
   "cell_type": "markdown",
   "metadata": {
    "id": "Oo_gWcat58gp"
   },
   "source": [
    "# Reproduce Results\n",
    "\n",
    "<div style=\"background-color: lightblue; padding: 10px; border-radius: 10px;\">\n",
    "\n",
    "\n",
    "**IMPORTANT INFO:**\n",
    "\n",
    "If there are random parts in the code, make sure to have **seeds to make your results reproducible**.\n",
    "\n",
    "The `reproduce_results.ipynb` notebook:\n",
    "- Is a responsability of all members of a group. All of you should execute this and ensure it works as expected.\n",
    "- **Contain train/validation/test results of ROC AUC** (it is available in Scikit-learn: `sklearn.metrics.roc_auc_score`) as well as **precision** and **recall**.\n",
    "\n",
    "Note that the teacher will only load and run this notebook, unless there is something very unclear requiring the execution of `train_models.ipynb` as well.\n",
    "\n",
    "Additional notes:\n",
    "- This notebook **does not have to train anything**.\n",
    "- It should be relatively fast to execute (probably less than 10 minutes since there is no training).\n",
    "- This notebook should only load previously trained models from disk. **After loading the models, it should make predictions and compute metrics**.\n",
    "    \n",
    "</div>"
   ]
  },
  {
   "cell_type": "markdown",
   "metadata": {},
   "source": [
    "### Imports"
   ]
  },
  {
   "cell_type": "code",
   "execution_count": 20,
   "metadata": {
    "id": "Wgbk032U5bZd"
   },
   "outputs": [],
   "source": [
    "import os\n",
    "import pickle\n",
    "import scipy\n",
    "import pandas as pd\n",
    "import sklearn\n",
    "from utils import evaluate_model"
   ]
  },
  {
   "cell_type": "markdown",
   "metadata": {},
   "source": [
    "## Load Data\n",
    "\n",
    "\n",
    "A results NO hem de pujar la data original, sino el dataset (amb les features) q hem utilitzat per entrenar el model (+validation set + test set)"
   ]
  },
  {
   "cell_type": "markdown",
   "metadata": {},
   "source": [
    "## Simple Solution"
   ]
  },
  {
   "cell_type": "code",
   "execution_count": 18,
   "metadata": {
    "id": "V-FyJyUO6ovt"
   },
   "outputs": [],
   "source": [
    "# load model\n",
    "with open('model/simple_solution/simple_model.pkl', 'rb') as f:\n",
    "    logistic = pickle.load(f)"
   ]
  },
  {
   "cell_type": "code",
   "execution_count": 31,
   "metadata": {},
   "outputs": [],
   "source": [
    "# load data\n",
    "\n",
    "with open('model/simple_solution/simple_model_X_tr.pkl','rb') as f:\n",
    "    X_tr_q1q2 = pickle.load(f)  \n",
    "    X_tr_q1q2 = scipy.sparse.csr_matrix(X_tr_q1q2) # converting to matrix\n",
    "with open('model/simple_solution/simple_model_X_va.pkl','rb') as f:\n",
    "    X_va_q1q2 = pickle.load(f)   \n",
    "    X_va_q1q2 = scipy.sparse.csr_matrix(X_va_q1q2)\n",
    "with open('model/simple_solution/simple_model_X_te.pkl','rb') as f:\n",
    "    X_te_q1q2 = pickle.load(f)\n",
    "    X_te_q1q2 = scipy.sparse.csr_matrix(X_te_q1q2)\n",
    "with open('model/simple_solution/simple_model_y_tr.pkl','rb') as f:\n",
    "    y_tr = pickle.load(f)\n",
    "with open('model/simple_solution/simple_model_y_va.pkl','rb') as f:\n",
    "    y_va = pickle.load(f)\n",
    "with open('model/simple_solution/simple_model_y_te.pkl','rb') as f:\n",
    "    y_te = pickle.load(f)"
   ]
  },
  {
   "cell_type": "code",
   "execution_count": 28,
   "metadata": {},
   "outputs": [
    {
     "name": "stdout",
     "output_type": "stream",
     "text": [
      "METRICS: \n",
      " ------------------------------------------------------------------------------------------\n",
      "Accuracy:  0.8139789035173366\n",
      "F1:  0.7313087927476779\n",
      "Precision:  0.7820463974261281\n",
      "Recall:  0.6867535943642599\n",
      "ROC AUC:  0.7875053281482827\n",
      "\n",
      " CLASSIFICATION REPORT: \n",
      " ------------------------------------------------------------------------------------------\n",
      "              precision    recall  f1-score   support\n",
      "\n",
      "    Negative       0.83      0.89      0.86    184298\n",
      "    Positive       0.78      0.69      0.73    107599\n",
      "\n",
      "    accuracy                           0.81    291897\n",
      "   macro avg       0.81      0.79      0.79    291897\n",
      "weighted avg       0.81      0.81      0.81    291897\n",
      "\n",
      "CONFUSION MATRIX: \n",
      " ------------------------------------------------------------------------------------------\n"
     ]
    },
    {
     "data": {
      "image/png": "[encoded data removed]",
      "text/plain": [
       "<Figure size 360x360 with 2 Axes>"
      ]
     },
     "metadata": {
      "needs_background": "light"
     },
     "output_type": "display_data"
    }
   ],
   "source": [
    "# Train results\n",
    "train_metrics = evaluate_model(X_tr_q1q2, y_tr, model=logistic, display=True)"
   ]
  },
  {
   "cell_type": "code",
   "execution_count": 32,
   "metadata": {},
   "outputs": [
    {
     "name": "stdout",
     "output_type": "stream",
     "text": [
      "METRICS: \n",
      " ------------------------------------------------------------------------------------------\n",
      "Accuracy:  0.7489422638807525\n",
      "F1:  0.6421081933747796\n",
      "Precision:  0.6771037181996086\n",
      "Recall:  0.6105523204517381\n",
      "ROC AUC:  0.7201895265625028\n",
      "\n",
      " CLASSIFICATION REPORT: \n",
      " ------------------------------------------------------------------------------------------\n",
      "              precision    recall  f1-score   support\n",
      "\n",
      "    Negative       0.78      0.83      0.81      9696\n",
      "    Positive       0.68      0.61      0.64      5667\n",
      "\n",
      "    accuracy                           0.75     15363\n",
      "   macro avg       0.73      0.72      0.72     15363\n",
      "weighted avg       0.75      0.75      0.75     15363\n",
      "\n",
      "CONFUSION MATRIX: \n",
      " ------------------------------------------------------------------------------------------\n"
     ]
    },
    {
     "data": {
      "image/png": "[encoded data removed]",
      "text/plain": [
       "<Figure size 360x360 with 2 Axes>"
      ]
     },
     "metadata": {
      "needs_background": "light"
     },
     "output_type": "display_data"
    }
   ],
   "source": [
    "# Validation results\n",
    "validation_metrics = evaluate_model(X_va_q1q2, y_va, model=logistic, display=True)"
   ]
  },
  {
   "cell_type": "code",
   "execution_count": 33,
   "metadata": {},
   "outputs": [
    {
     "name": "stdout",
     "output_type": "stream",
     "text": [
      "METRICS: \n",
      " ------------------------------------------------------------------------------------------\n",
      "Accuracy:  0.7576675735839723\n",
      "F1:  0.654744075411858\n",
      "Precision:  0.6953592814371258\n",
      "Recall:  0.6186116197769269\n",
      "ROC AUC:  0.7292271084620001\n",
      "\n",
      " CLASSIFICATION REPORT: \n",
      " ------------------------------------------------------------------------------------------\n",
      "              precision    recall  f1-score   support\n",
      "\n",
      "    Negative       0.79      0.84      0.81     10165\n",
      "    Positive       0.70      0.62      0.65      6007\n",
      "\n",
      "    accuracy                           0.76     16172\n",
      "   macro avg       0.74      0.73      0.73     16172\n",
      "weighted avg       0.75      0.76      0.75     16172\n",
      "\n",
      "CONFUSION MATRIX: \n",
      " ------------------------------------------------------------------------------------------\n"
     ]
    },
    {
     "data": {
      "image/png": "[encoded data removed]",
      "text/plain": [
       "<Figure size 360x360 with 2 Axes>"
      ]
     },
     "metadata": {
      "needs_background": "light"
     },
     "output_type": "display_data"
    }
   ],
   "source": [
    "# Test results\n",
    "test_metrics  = evaluate_model(X_te_q1q2, y_te, model=logistic, display=True)"
   ]
  },
  {
   "cell_type": "markdown",
   "metadata": {},
   "source": [
    "## Improved Solution"
   ]
  },
  {
   "cell_type": "code",
   "execution_count": null,
   "metadata": {},
   "outputs": [],
   "source": []
  }
 ],
 "metadata": {
  "colab": {
   "authorship_tag": "ABX9TyNubD5DFBCwoWMBS24feH5L",
   "provenance": []
  },
  "kernelspec": {
   "display_name": "Python 3",
   "language": "python",
   "name": "python3"
  },
  "language_info": {
   "codemirror_mode": {
    "name": "ipython",
    "version": 3
   },
   "file_extension": ".py",
   "mimetype": "text/x-python",
   "name": "python",
   "nbconvert_exporter": "python",
   "pygments_lexer": "ipython3",
   "version": "3.8.3"
  }
 },
 "nbformat": 4,
 "nbformat_minor": 1
}
