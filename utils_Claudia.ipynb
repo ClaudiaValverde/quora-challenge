{
 "cells": [
  {
   "cell_type": "markdown",
   "metadata": {
    "id": "3QC-oTov7OLZ"
   },
   "source": [
    "## Imports"
   ]
  },
  {
   "cell_type": "code",
   "execution_count": 50,
   "metadata": {
    "id": "FMTwx6ySZqUk"
   },
   "outputs": [],
   "source": [
    "import pandas as pd\n",
    "from sklearn import *\n",
    "import matplotlib.pyplot as plt\n",
    "import seaborn as sns\n",
    "import numpy as np\n",
    "import spacy\n",
    "\n",
    "sns.set()"
   ]
  },
  {
   "cell_type": "code",
   "execution_count": 16,
   "metadata": {},
   "outputs": [
    {
     "data": {
      "text/plain": [
       "'/Users/claudiavalverde/Documents/DS-master/semestre2/NLP/project1/nlp_deliv1_materials'"
      ]
     },
     "execution_count": 16,
     "metadata": {},
     "output_type": "execute_result"
    }
   ],
   "source": [
    "pwd"
   ]
  },
  {
   "cell_type": "markdown",
   "metadata": {
    "id": "3azAEGmv7Q5b"
   },
   "source": [
    "## Load Data"
   ]
  },
  {
   "cell_type": "code",
   "execution_count": 15,
   "metadata": {
    "id": "QzjT6Qt0RZJQ"
   },
   "outputs": [],
   "source": [
    "# use this to train and VALIDATE your solution\n",
    "train_df = pd.read_csv(\"../nlp_deliv1_materials/quora_train_data.csv\")"
   ]
  },
  {
   "cell_type": "code",
   "execution_count": 19,
   "metadata": {
    "colab": {
     "base_uri": "https://localhost:8080/"
    },
    "executionInfo": {
     "elapsed": 412,
     "status": "ok",
     "timestamp": 1712673844324,
     "user": {
      "displayName": "Clàudia Valverde Sanchez",
      "userId": "17089465752638224867"
     },
     "user_tz": -120
    },
    "id": "xoXQVsBrUGOL",
    "outputId": "6f5afe5b-02cf-4c47-9689-d623c0719706"
   },
   "outputs": [
    {
     "name": "stdout",
     "output_type": "stream",
     "text": [
      "tr_df.shape= (291897, 6)\n"
     ]
    }
   ],
   "source": [
    "A_df, te_df = model_selection.train_test_split(train_df, test_size=0.05, random_state=123)\n",
    "tr_df, va_df = model_selection.train_test_split(A_df, test_size=0.05, random_state=123)\n",
    "print('tr_df.shape=',tr_df.shape)"
   ]
  },
  {
   "cell_type": "code",
   "execution_count": 20,
   "metadata": {
    "colab": {
     "base_uri": "https://localhost:8080/",
     "height": 206
    },
    "executionInfo": {
     "elapsed": 266,
     "status": "ok",
     "timestamp": 1712673852251,
     "user": {
      "displayName": "Clàudia Valverde Sanchez",
      "userId": "17089465752638224867"
     },
     "user_tz": -120
    },
    "id": "7omQ2kocaHY-",
    "outputId": "964f31ab-d49f-4acc-b045-28cd3724e402"
   },
   "outputs": [
    {
     "data": {
      "text/html": [
       "<div>\n",
       "<style scoped>\n",
       "    .dataframe tbody tr th:only-of-type {\n",
       "        vertical-align: middle;\n",
       "    }\n",
       "\n",
       "    .dataframe tbody tr th {\n",
       "        vertical-align: top;\n",
       "    }\n",
       "\n",
       "    .dataframe thead th {\n",
       "        text-align: right;\n",
       "    }\n",
       "</style>\n",
       "<table border=\"1\" class=\"dataframe\">\n",
       "  <thead>\n",
       "    <tr style=\"text-align: right;\">\n",
       "      <th></th>\n",
       "      <th>id</th>\n",
       "      <th>qid1</th>\n",
       "      <th>qid2</th>\n",
       "      <th>question1</th>\n",
       "      <th>question2</th>\n",
       "      <th>is_duplicate</th>\n",
       "    </tr>\n",
       "  </thead>\n",
       "  <tbody>\n",
       "    <tr>\n",
       "      <th>61482</th>\n",
       "      <td>125898</td>\n",
       "      <td>203030</td>\n",
       "      <td>203031</td>\n",
       "      <td>Is Java or C++ or C the most popular language ...</td>\n",
       "      <td>How do I develop a software which will have a ...</td>\n",
       "      <td>0</td>\n",
       "    </tr>\n",
       "    <tr>\n",
       "      <th>131546</th>\n",
       "      <td>36249</td>\n",
       "      <td>66113</td>\n",
       "      <td>66114</td>\n",
       "      <td>How do you convert direct speech into reported...</td>\n",
       "      <td>I feel weak at spoken English. I have sentence...</td>\n",
       "      <td>0</td>\n",
       "    </tr>\n",
       "    <tr>\n",
       "      <th>22927</th>\n",
       "      <td>199864</td>\n",
       "      <td>301469</td>\n",
       "      <td>301470</td>\n",
       "      <td>Where can I buy used wine barrels?</td>\n",
       "      <td>Where can you buy used wine barrels?</td>\n",
       "      <td>1</td>\n",
       "    </tr>\n",
       "    <tr>\n",
       "      <th>183520</th>\n",
       "      <td>277339</td>\n",
       "      <td>17728</td>\n",
       "      <td>138400</td>\n",
       "      <td>What was the best day of your life? (Excluding...</td>\n",
       "      <td>What is the Best Day of your life till date?</td>\n",
       "      <td>1</td>\n",
       "    </tr>\n",
       "    <tr>\n",
       "      <th>67694</th>\n",
       "      <td>392907</td>\n",
       "      <td>525647</td>\n",
       "      <td>525648</td>\n",
       "      <td>How is web-work.in works?</td>\n",
       "      <td>How do I get web designing work?</td>\n",
       "      <td>0</td>\n",
       "    </tr>\n",
       "  </tbody>\n",
       "</table>\n",
       "</div>"
      ],
      "text/plain": [
       "            id    qid1    qid2  \\\n",
       "61482   125898  203030  203031   \n",
       "131546   36249   66113   66114   \n",
       "22927   199864  301469  301470   \n",
       "183520  277339   17728  138400   \n",
       "67694   392907  525647  525648   \n",
       "\n",
       "                                                question1  \\\n",
       "61482   Is Java or C++ or C the most popular language ...   \n",
       "131546  How do you convert direct speech into reported...   \n",
       "22927                  Where can I buy used wine barrels?   \n",
       "183520  What was the best day of your life? (Excluding...   \n",
       "67694                           How is web-work.in works?   \n",
       "\n",
       "                                                question2  is_duplicate  \n",
       "61482   How do I develop a software which will have a ...             0  \n",
       "131546  I feel weak at spoken English. I have sentence...             0  \n",
       "22927                Where can you buy used wine barrels?             1  \n",
       "183520       What is the Best Day of your life till date?             1  \n",
       "67694                    How do I get web designing work?             0  "
      ]
     },
     "execution_count": 20,
     "metadata": {},
     "output_type": "execute_result"
    }
   ],
   "source": [
    "tr_df.head()"
   ]
  },
  {
   "cell_type": "code",
   "execution_count": 21,
   "metadata": {
    "colab": {
     "base_uri": "https://localhost:8080/",
     "height": 206
    },
    "executionInfo": {
     "elapsed": 10,
     "status": "ok",
     "timestamp": 1712673859202,
     "user": {
      "displayName": "Clàudia Valverde Sanchez",
      "userId": "17089465752638224867"
     },
     "user_tz": -120
    },
    "id": "7Q8Zlk5MT9gD",
    "outputId": "1d65b92a-4946-4036-bab7-c2307c30b697"
   },
   "outputs": [
    {
     "data": {
      "text/html": [
       "<div>\n",
       "<style scoped>\n",
       "    .dataframe tbody tr th:only-of-type {\n",
       "        vertical-align: middle;\n",
       "    }\n",
       "\n",
       "    .dataframe tbody tr th {\n",
       "        vertical-align: top;\n",
       "    }\n",
       "\n",
       "    .dataframe thead th {\n",
       "        text-align: right;\n",
       "    }\n",
       "</style>\n",
       "<table border=\"1\" class=\"dataframe\">\n",
       "  <thead>\n",
       "    <tr style=\"text-align: right;\">\n",
       "      <th></th>\n",
       "      <th>id</th>\n",
       "      <th>qid1</th>\n",
       "      <th>qid2</th>\n",
       "      <th>question1</th>\n",
       "      <th>question2</th>\n",
       "      <th>is_duplicate</th>\n",
       "    </tr>\n",
       "  </thead>\n",
       "  <tbody>\n",
       "    <tr>\n",
       "      <th>146205</th>\n",
       "      <td>378301</td>\n",
       "      <td>509685</td>\n",
       "      <td>56699</td>\n",
       "      <td>Who is more dishonest, Donald Trump or Hillary...</td>\n",
       "      <td>Would you rather vote for Donald Trump or Hill...</td>\n",
       "      <td>0</td>\n",
       "    </tr>\n",
       "    <tr>\n",
       "      <th>99373</th>\n",
       "      <td>332237</td>\n",
       "      <td>459221</td>\n",
       "      <td>303879</td>\n",
       "      <td>What are the healthiest foods to eat for dinner?</td>\n",
       "      <td>Which is the healthiest food?</td>\n",
       "      <td>0</td>\n",
       "    </tr>\n",
       "    <tr>\n",
       "      <th>292307</th>\n",
       "      <td>283851</td>\n",
       "      <td>100550</td>\n",
       "      <td>99720</td>\n",
       "      <td>Can a dog take baby aspirin?</td>\n",
       "      <td>Is it safe to give my dog a baby aspirin and h...</td>\n",
       "      <td>1</td>\n",
       "    </tr>\n",
       "    <tr>\n",
       "      <th>73776</th>\n",
       "      <td>306170</td>\n",
       "      <td>87025</td>\n",
       "      <td>429632</td>\n",
       "      <td>What is churchofsatan.com?</td>\n",
       "      <td>What is Loadteam.com?</td>\n",
       "      <td>0</td>\n",
       "    </tr>\n",
       "    <tr>\n",
       "      <th>256938</th>\n",
       "      <td>24445</td>\n",
       "      <td>14806</td>\n",
       "      <td>12515</td>\n",
       "      <td>Why MS Dhoni left captaincy though he was a su...</td>\n",
       "      <td>Why does M.S Dhoni left captaincy for ODI and ...</td>\n",
       "      <td>1</td>\n",
       "    </tr>\n",
       "  </tbody>\n",
       "</table>\n",
       "</div>"
      ],
      "text/plain": [
       "            id    qid1    qid2  \\\n",
       "146205  378301  509685   56699   \n",
       "99373   332237  459221  303879   \n",
       "292307  283851  100550   99720   \n",
       "73776   306170   87025  429632   \n",
       "256938   24445   14806   12515   \n",
       "\n",
       "                                                question1  \\\n",
       "146205  Who is more dishonest, Donald Trump or Hillary...   \n",
       "99373    What are the healthiest foods to eat for dinner?   \n",
       "292307                       Can a dog take baby aspirin?   \n",
       "73776                          What is churchofsatan.com?   \n",
       "256938  Why MS Dhoni left captaincy though he was a su...   \n",
       "\n",
       "                                                question2  is_duplicate  \n",
       "146205  Would you rather vote for Donald Trump or Hill...             0  \n",
       "99373                       Which is the healthiest food?             0  \n",
       "292307  Is it safe to give my dog a baby aspirin and h...             1  \n",
       "73776                               What is Loadteam.com?             0  \n",
       "256938  Why does M.S Dhoni left captaincy for ODI and ...             1  "
      ]
     },
     "execution_count": 21,
     "metadata": {},
     "output_type": "execute_result"
    }
   ],
   "source": [
    "va_df.head()"
   ]
  },
  {
   "cell_type": "markdown",
   "metadata": {
    "id": "liFVVRiqWCPG"
   },
   "source": [
    "## Analysis of the data"
   ]
  },
  {
   "cell_type": "code",
   "execution_count": 22,
   "metadata": {
    "colab": {
     "base_uri": "https://localhost:8080/",
     "height": 501
    },
    "executionInfo": {
     "elapsed": 2009,
     "status": "ok",
     "timestamp": 1712674216535,
     "user": {
      "displayName": "Clàudia Valverde Sanchez",
      "userId": "17089465752638224867"
     },
     "user_tz": -120
    },
    "id": "5UT8_-ppUZaU",
    "outputId": "d34150f4-004a-4488-fb2c-bfb943e69053"
   },
   "outputs": [
    {
     "data": {
      "image/png": "[encoded data removed]",
      "text/plain": [
       "<Figure size 720x360 with 2 Axes>"
      ]
     },
     "metadata": {},
     "output_type": "display_data"
    }
   ],
   "source": [
    "# Group by 'is_duplicate' and count the number of IDs for training and validation data\n",
    "tr_counts = tr_df.groupby('is_duplicate')['id'].count()\n",
    "va_counts = va_df.groupby('is_duplicate')['id'].count()\n",
    "\n",
    "# Create a grid of subplots with 1 row and 2 columns\n",
    "fig, axs = plt.subplots(1, 2, figsize=(10, 5))\n",
    "\n",
    "# Plot training data counts\n",
    "tr_counts.plot(kind='bar', ax=axs[0], color='lightblue')\n",
    "axs[0].set_title('Training Data')\n",
    "\n",
    "# Plot validation data counts\n",
    "va_counts.plot(kind='bar', ax=axs[1], color='lightgreen')\n",
    "axs[1].set_title('Validation Data')\n",
    "\n",
    "# Set common labels\n",
    "for ax in axs:\n",
    "    ax.set_xlabel('is_duplicate')\n",
    "    ax.set_ylabel('Count')\n",
    "\n",
    "# Adjust layout\n",
    "plt.tight_layout()\n",
    "\n",
    "# Show the plot\n",
    "plt.show()"
   ]
  },
  {
   "cell_type": "code",
   "execution_count": 27,
   "metadata": {
    "colab": {
     "base_uri": "https://localhost:8080/"
    },
    "executionInfo": {
     "elapsed": 641,
     "status": "ok",
     "timestamp": 1712674348373,
     "user": {
      "displayName": "Clàudia Valverde Sanchez",
      "userId": "17089465752638224867"
     },
     "user_tz": -120
    },
    "id": "I6_1sW80U2qB",
    "outputId": "a1162fc9-a884-413a-fabc-281f5526f275"
   },
   "outputs": [
    {
     "name": "stdout",
     "output_type": "stream",
     "text": [
      "Statistics on Question IDs \n",
      " ---------------------------------------------------------------------------------------------------------\n",
      "Number of Unique Questions: 414213\n",
      "Number of Non-Unique Questions: 75805\n",
      "Percentage of Non-Unique Questions: 18.30%\n",
      "Maximum Times a Question Got Repeated: 125\n"
     ]
    }
   ],
   "source": [
    "qids = pd.Series(tr_df['qid1'].to_list() + tr_df['qid2'].to_list())\n",
    "num_unique_questions = len(np.unique(qids))\n",
    "non_unique_questions = np.sum(qids.value_counts() > 1)\n",
    "percentage_non_unique_questions = ( non_unique_questions / num_unique_questions ) * 100\n",
    "\n",
    "print(\"Statistics on Question IDs \\n\",\"---\"*35)\n",
    "print(f\"Number of Unique Questions: {num_unique_questions}\")\n",
    "print(f\"Number of Non-Unique Questions: {non_unique_questions}\")\n",
    "print(f\"Percentage of Non-Unique Questions: {percentage_non_unique_questions:.2f}%\")\n",
    "print(f\"Maximum Times a Question Got Repeated: {qids.value_counts().iloc[0]}\")"
   ]
  },
  {
   "cell_type": "code",
   "execution_count": 28,
   "metadata": {
    "id": "0_wcH5XAWBWw"
   },
   "outputs": [
    {
     "name": "stdout",
     "output_type": "stream",
     "text": [
      "Number of duplicated questions: 0\n"
     ]
    }
   ],
   "source": [
    "pair_duplicates = tr_df[['qid1', 'qid2', 'is_duplicate']].groupby(['qid1', 'qid2']).count().reset_index()\n",
    "num_duplicated_questions = pair_duplicates.shape[0] - tr_df.shape[0]\n",
    "print(f\"Number of duplicated questions: {num_duplicated_questions}\")"
   ]
  },
  {
   "cell_type": "code",
   "execution_count": 31,
   "metadata": {},
   "outputs": [],
   "source": [
    "# preprocessing\n",
    "# filling Nan values as ''\n",
    "\n",
    "df = tr_df.fillna('')"
   ]
  },
  {
   "cell_type": "markdown",
   "metadata": {},
   "source": [
    "## TF-IDF\n",
    "Is a measure that can be used to build feature vectors. It measures the importance of a word to a document corpus.\n",
    "\n",
    "**TF**: *term frequency*,  emphasizes words taht appear frequently in a geiven document.\n",
    "\n",
    "**IDF**: *inverse document frequency*, empasizes words that appear rarely in a set of documents.\n"
   ]
  },
  {
   "cell_type": "code",
   "execution_count": 41,
   "metadata": {},
   "outputs": [],
   "source": [
    "from sklearn.feature_extraction.text import TfidfVectorizer\n",
    "\n",
    "questions = list(df['question1']) + list(df['question2'])\n",
    "tfidf = TfidfVectorizer()\n",
    "X_train_tfidf = tfidf.fit_transform(questions)"
   ]
  },
  {
   "cell_type": "code",
   "execution_count": 44,
   "metadata": {},
   "outputs": [],
   "source": [
    "word2tfidf = dict(zip(tfidf.get_feature_names(), tfidf.idf_))"
   ]
  },
  {
   "cell_type": "code",
   "execution_count": 55,
   "metadata": {},
   "outputs": [
    {
     "data": {
      "text/html": [
       "<div>\n",
       "<style scoped>\n",
       "    .dataframe tbody tr th:only-of-type {\n",
       "        vertical-align: middle;\n",
       "    }\n",
       "\n",
       "    .dataframe tbody tr th {\n",
       "        vertical-align: top;\n",
       "    }\n",
       "\n",
       "    .dataframe thead th {\n",
       "        text-align: right;\n",
       "    }\n",
       "</style>\n",
       "<table border=\"1\" class=\"dataframe\">\n",
       "  <thead>\n",
       "    <tr style=\"text-align: right;\">\n",
       "      <th></th>\n",
       "      <th>00</th>\n",
       "      <th>000</th>\n",
       "      <th>0000</th>\n",
       "      <th>000000</th>\n",
       "      <th>00000000</th>\n",
       "      <th>00000074</th>\n",
       "      <th>0000021210</th>\n",
       "      <th>0001</th>\n",
       "      <th>0002</th>\n",
       "      <th>000inr</th>\n",
       "      <th>...</th>\n",
       "      <th>북쪽앟관자키</th>\n",
       "      <th>분위기</th>\n",
       "      <th>불타오르네</th>\n",
       "      <th>슬마</th>\n",
       "      <th>심하잖아</th>\n",
       "      <th>이정현</th>\n",
       "      <th>친구해도</th>\n",
       "      <th>쾌지나칭칭나네</th>\n",
       "      <th>한글</th>\n",
       "      <th>ﬁnd</th>\n",
       "    </tr>\n",
       "  </thead>\n",
       "  <tbody>\n",
       "    <tr>\n",
       "      <th>0</th>\n",
       "      <td>0.0</td>\n",
       "      <td>0.0</td>\n",
       "      <td>0.0</td>\n",
       "      <td>0.0</td>\n",
       "      <td>0.0</td>\n",
       "      <td>0.0</td>\n",
       "      <td>0.0</td>\n",
       "      <td>0.0</td>\n",
       "      <td>0.0</td>\n",
       "      <td>0.0</td>\n",
       "      <td>...</td>\n",
       "      <td>0.0</td>\n",
       "      <td>0.0</td>\n",
       "      <td>0.0</td>\n",
       "      <td>0.0</td>\n",
       "      <td>0.0</td>\n",
       "      <td>0.0</td>\n",
       "      <td>0.0</td>\n",
       "      <td>0.0</td>\n",
       "      <td>0.0</td>\n",
       "      <td>0.0</td>\n",
       "    </tr>\n",
       "    <tr>\n",
       "      <th>1</th>\n",
       "      <td>0.0</td>\n",
       "      <td>0.0</td>\n",
       "      <td>0.0</td>\n",
       "      <td>0.0</td>\n",
       "      <td>0.0</td>\n",
       "      <td>0.0</td>\n",
       "      <td>0.0</td>\n",
       "      <td>0.0</td>\n",
       "      <td>0.0</td>\n",
       "      <td>0.0</td>\n",
       "      <td>...</td>\n",
       "      <td>0.0</td>\n",
       "      <td>0.0</td>\n",
       "      <td>0.0</td>\n",
       "      <td>0.0</td>\n",
       "      <td>0.0</td>\n",
       "      <td>0.0</td>\n",
       "      <td>0.0</td>\n",
       "      <td>0.0</td>\n",
       "      <td>0.0</td>\n",
       "      <td>0.0</td>\n",
       "    </tr>\n",
       "    <tr>\n",
       "      <th>2</th>\n",
       "      <td>0.0</td>\n",
       "      <td>0.0</td>\n",
       "      <td>0.0</td>\n",
       "      <td>0.0</td>\n",
       "      <td>0.0</td>\n",
       "      <td>0.0</td>\n",
       "      <td>0.0</td>\n",
       "      <td>0.0</td>\n",
       "      <td>0.0</td>\n",
       "      <td>0.0</td>\n",
       "      <td>...</td>\n",
       "      <td>0.0</td>\n",
       "      <td>0.0</td>\n",
       "      <td>0.0</td>\n",
       "      <td>0.0</td>\n",
       "      <td>0.0</td>\n",
       "      <td>0.0</td>\n",
       "      <td>0.0</td>\n",
       "      <td>0.0</td>\n",
       "      <td>0.0</td>\n",
       "      <td>0.0</td>\n",
       "    </tr>\n",
       "    <tr>\n",
       "      <th>3</th>\n",
       "      <td>0.0</td>\n",
       "      <td>0.0</td>\n",
       "      <td>0.0</td>\n",
       "      <td>0.0</td>\n",
       "      <td>0.0</td>\n",
       "      <td>0.0</td>\n",
       "      <td>0.0</td>\n",
       "      <td>0.0</td>\n",
       "      <td>0.0</td>\n",
       "      <td>0.0</td>\n",
       "      <td>...</td>\n",
       "      <td>0.0</td>\n",
       "      <td>0.0</td>\n",
       "      <td>0.0</td>\n",
       "      <td>0.0</td>\n",
       "      <td>0.0</td>\n",
       "      <td>0.0</td>\n",
       "      <td>0.0</td>\n",
       "      <td>0.0</td>\n",
       "      <td>0.0</td>\n",
       "      <td>0.0</td>\n",
       "    </tr>\n",
       "    <tr>\n",
       "      <th>4</th>\n",
       "      <td>0.0</td>\n",
       "      <td>0.0</td>\n",
       "      <td>0.0</td>\n",
       "      <td>0.0</td>\n",
       "      <td>0.0</td>\n",
       "      <td>0.0</td>\n",
       "      <td>0.0</td>\n",
       "      <td>0.0</td>\n",
       "      <td>0.0</td>\n",
       "      <td>0.0</td>\n",
       "      <td>...</td>\n",
       "      <td>0.0</td>\n",
       "      <td>0.0</td>\n",
       "      <td>0.0</td>\n",
       "      <td>0.0</td>\n",
       "      <td>0.0</td>\n",
       "      <td>0.0</td>\n",
       "      <td>0.0</td>\n",
       "      <td>0.0</td>\n",
       "      <td>0.0</td>\n",
       "      <td>0.0</td>\n",
       "    </tr>\n",
       "    <tr>\n",
       "      <th>...</th>\n",
       "      <td>...</td>\n",
       "      <td>...</td>\n",
       "      <td>...</td>\n",
       "      <td>...</td>\n",
       "      <td>...</td>\n",
       "      <td>...</td>\n",
       "      <td>...</td>\n",
       "      <td>...</td>\n",
       "      <td>...</td>\n",
       "      <td>...</td>\n",
       "      <td>...</td>\n",
       "      <td>...</td>\n",
       "      <td>...</td>\n",
       "      <td>...</td>\n",
       "      <td>...</td>\n",
       "      <td>...</td>\n",
       "      <td>...</td>\n",
       "      <td>...</td>\n",
       "      <td>...</td>\n",
       "      <td>...</td>\n",
       "      <td>...</td>\n",
       "    </tr>\n",
       "    <tr>\n",
       "      <th>583789</th>\n",
       "      <td>0.0</td>\n",
       "      <td>0.0</td>\n",
       "      <td>0.0</td>\n",
       "      <td>0.0</td>\n",
       "      <td>0.0</td>\n",
       "      <td>0.0</td>\n",
       "      <td>0.0</td>\n",
       "      <td>0.0</td>\n",
       "      <td>0.0</td>\n",
       "      <td>0.0</td>\n",
       "      <td>...</td>\n",
       "      <td>0.0</td>\n",
       "      <td>0.0</td>\n",
       "      <td>0.0</td>\n",
       "      <td>0.0</td>\n",
       "      <td>0.0</td>\n",
       "      <td>0.0</td>\n",
       "      <td>0.0</td>\n",
       "      <td>0.0</td>\n",
       "      <td>0.0</td>\n",
       "      <td>0.0</td>\n",
       "    </tr>\n",
       "    <tr>\n",
       "      <th>583790</th>\n",
       "      <td>0.0</td>\n",
       "      <td>0.0</td>\n",
       "      <td>0.0</td>\n",
       "      <td>0.0</td>\n",
       "      <td>0.0</td>\n",
       "      <td>0.0</td>\n",
       "      <td>0.0</td>\n",
       "      <td>0.0</td>\n",
       "      <td>0.0</td>\n",
       "      <td>0.0</td>\n",
       "      <td>...</td>\n",
       "      <td>0.0</td>\n",
       "      <td>0.0</td>\n",
       "      <td>0.0</td>\n",
       "      <td>0.0</td>\n",
       "      <td>0.0</td>\n",
       "      <td>0.0</td>\n",
       "      <td>0.0</td>\n",
       "      <td>0.0</td>\n",
       "      <td>0.0</td>\n",
       "      <td>0.0</td>\n",
       "    </tr>\n",
       "    <tr>\n",
       "      <th>583791</th>\n",
       "      <td>0.0</td>\n",
       "      <td>0.0</td>\n",
       "      <td>0.0</td>\n",
       "      <td>0.0</td>\n",
       "      <td>0.0</td>\n",
       "      <td>0.0</td>\n",
       "      <td>0.0</td>\n",
       "      <td>0.0</td>\n",
       "      <td>0.0</td>\n",
       "      <td>0.0</td>\n",
       "      <td>...</td>\n",
       "      <td>0.0</td>\n",
       "      <td>0.0</td>\n",
       "      <td>0.0</td>\n",
       "      <td>0.0</td>\n",
       "      <td>0.0</td>\n",
       "      <td>0.0</td>\n",
       "      <td>0.0</td>\n",
       "      <td>0.0</td>\n",
       "      <td>0.0</td>\n",
       "      <td>0.0</td>\n",
       "    </tr>\n",
       "    <tr>\n",
       "      <th>583792</th>\n",
       "      <td>0.0</td>\n",
       "      <td>0.0</td>\n",
       "      <td>0.0</td>\n",
       "      <td>0.0</td>\n",
       "      <td>0.0</td>\n",
       "      <td>0.0</td>\n",
       "      <td>0.0</td>\n",
       "      <td>0.0</td>\n",
       "      <td>0.0</td>\n",
       "      <td>0.0</td>\n",
       "      <td>...</td>\n",
       "      <td>0.0</td>\n",
       "      <td>0.0</td>\n",
       "      <td>0.0</td>\n",
       "      <td>0.0</td>\n",
       "      <td>0.0</td>\n",
       "      <td>0.0</td>\n",
       "      <td>0.0</td>\n",
       "      <td>0.0</td>\n",
       "      <td>0.0</td>\n",
       "      <td>0.0</td>\n",
       "    </tr>\n",
       "    <tr>\n",
       "      <th>583793</th>\n",
       "      <td>0.0</td>\n",
       "      <td>0.0</td>\n",
       "      <td>0.0</td>\n",
       "      <td>0.0</td>\n",
       "      <td>0.0</td>\n",
       "      <td>0.0</td>\n",
       "      <td>0.0</td>\n",
       "      <td>0.0</td>\n",
       "      <td>0.0</td>\n",
       "      <td>0.0</td>\n",
       "      <td>...</td>\n",
       "      <td>0.0</td>\n",
       "      <td>0.0</td>\n",
       "      <td>0.0</td>\n",
       "      <td>0.0</td>\n",
       "      <td>0.0</td>\n",
       "      <td>0.0</td>\n",
       "      <td>0.0</td>\n",
       "      <td>0.0</td>\n",
       "      <td>0.0</td>\n",
       "      <td>0.0</td>\n",
       "    </tr>\n",
       "  </tbody>\n",
       "</table>\n",
       "<p>583794 rows × 74825 columns</p>\n",
       "</div>"
      ],
      "text/plain": [
       "         00  000  0000  000000  00000000  00000074  0000021210  0001  0002  \\\n",
       "0       0.0  0.0   0.0     0.0       0.0       0.0         0.0   0.0   0.0   \n",
       "1       0.0  0.0   0.0     0.0       0.0       0.0         0.0   0.0   0.0   \n",
       "2       0.0  0.0   0.0     0.0       0.0       0.0         0.0   0.0   0.0   \n",
       "3       0.0  0.0   0.0     0.0       0.0       0.0         0.0   0.0   0.0   \n",
       "4       0.0  0.0   0.0     0.0       0.0       0.0         0.0   0.0   0.0   \n",
       "...     ...  ...   ...     ...       ...       ...         ...   ...   ...   \n",
       "583789  0.0  0.0   0.0     0.0       0.0       0.0         0.0   0.0   0.0   \n",
       "583790  0.0  0.0   0.0     0.0       0.0       0.0         0.0   0.0   0.0   \n",
       "583791  0.0  0.0   0.0     0.0       0.0       0.0         0.0   0.0   0.0   \n",
       "583792  0.0  0.0   0.0     0.0       0.0       0.0         0.0   0.0   0.0   \n",
       "583793  0.0  0.0   0.0     0.0       0.0       0.0         0.0   0.0   0.0   \n",
       "\n",
       "        000inr  ...  북쪽앟관자키  분위기  불타오르네   슬마  심하잖아  이정현  친구해도  쾌지나칭칭나네   한글  \\\n",
       "0          0.0  ...     0.0  0.0    0.0  0.0   0.0  0.0   0.0      0.0  0.0   \n",
       "1          0.0  ...     0.0  0.0    0.0  0.0   0.0  0.0   0.0      0.0  0.0   \n",
       "2          0.0  ...     0.0  0.0    0.0  0.0   0.0  0.0   0.0      0.0  0.0   \n",
       "3          0.0  ...     0.0  0.0    0.0  0.0   0.0  0.0   0.0      0.0  0.0   \n",
       "4          0.0  ...     0.0  0.0    0.0  0.0   0.0  0.0   0.0      0.0  0.0   \n",
       "...        ...  ...     ...  ...    ...  ...   ...  ...   ...      ...  ...   \n",
       "583789     0.0  ...     0.0  0.0    0.0  0.0   0.0  0.0   0.0      0.0  0.0   \n",
       "583790     0.0  ...     0.0  0.0    0.0  0.0   0.0  0.0   0.0      0.0  0.0   \n",
       "583791     0.0  ...     0.0  0.0    0.0  0.0   0.0  0.0   0.0      0.0  0.0   \n",
       "583792     0.0  ...     0.0  0.0    0.0  0.0   0.0  0.0   0.0      0.0  0.0   \n",
       "583793     0.0  ...     0.0  0.0    0.0  0.0   0.0  0.0   0.0      0.0  0.0   \n",
       "\n",
       "        ﬁnd  \n",
       "0       0.0  \n",
       "1       0.0  \n",
       "2       0.0  \n",
       "3       0.0  \n",
       "4       0.0  \n",
       "...     ...  \n",
       "583789  0.0  \n",
       "583790  0.0  \n",
       "583791  0.0  \n",
       "583792  0.0  \n",
       "583793  0.0  \n",
       "\n",
       "[583794 rows x 74825 columns]"
      ]
     },
     "execution_count": 55,
     "metadata": {},
     "output_type": "execute_result"
    }
   ],
   "source": [
    "#ajuntar df + tfidf de manera 'normal'\n",
    "\n",
    "\n",
    "df1 = pd.DataFrame(X_train_tfidf.toarray(), columns=tfidf.get_feature_names())\n",
    "df1\n",
    "#df.drop('text', axis=1, inplace=True)\n",
    "#res = pd.concat([df, df1], axis=1)"
   ]
  },
  {
   "cell_type": "markdown",
   "metadata": {
    "id": "mc4KBAgLZkhd"
   },
   "source": [
    "- cosine vs eucledian distance\n",
    "- nearest neighbour search\n",
    "- the hashing trick (feature hashing), LSH\n",
    "- siamese model !!!"
   ]
  }
 ],
 "metadata": {
  "colab": {
   "provenance": []
  },
  "kernelspec": {
   "display_name": "Python 3",
   "language": "python",
   "name": "python3"
  },
  "language_info": {
   "codemirror_mode": {
    "name": "ipython",
    "version": 3
   },
   "file_extension": ".py",
   "mimetype": "text/x-python",
   "name": "python",
   "nbconvert_exporter": "python",
   "pygments_lexer": "ipython3",
   "version": "3.8.3"
  }
 },
 "nbformat": 4,
 "nbformat_minor": 1
}
